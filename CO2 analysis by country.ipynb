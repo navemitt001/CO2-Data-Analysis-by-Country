{
 "cells": [
  {
   "cell_type": "code",
   "execution_count": 1,
   "metadata": {
    "scrolled": false
   },
   "outputs": [],
   "source": [
    "#Day 5 - code \n",
    "class Error(Exception):\n",
    "    \"\"\"Base class for other exceptions\"\"\"\n",
    "    pass\n",
    "class Error_incorrectinput(Error):\n",
    "    \"\"\"Raised when the input value is too small\"\"\"\n",
    "    pass\n",
    "def check_country(ctry_list, key_list, num_ctry):\n",
    "    #check that the countries entered are correct and number of entered countries is correct\n",
    "    err_m = []\n",
    "    err_flag = False\n",
    "    if len(ctry_list) > num_ctry:\n",
    "        err_msg.append(\"Enter upto three countries only\")\n",
    "        err_flag = True\n",
    "    elif len(ctry_list) <2:\n",
    "        err_msg.append(\"Enter at least 2 countries\")\n",
    "        err_flag = True\n",
    "    for x in range(len(ctry_list)):\n",
    "        if ctry_list[x] not in key_list:\n",
    "            temp = f\"Country {ctry_list[x]} does not exist in the data. Please check spelling\"\n",
    "            #print (temp)\n",
    "            #print(err_m)\n",
    "            err_m.append(temp)\n",
    "            err_flag = True\n",
    "    return err_m, err_flag\n",
    "\n",
    "#working code Day 1\n",
    "import csv\n",
    "co2datadict = {}\n",
    "with open(\"Emissions.csv\") as csvfile:\n",
    "    co2data = csv.reader(csvfile)\n",
    "    for item in co2data:\n",
    "        for x in item:\n",
    "            co2datadict[item[0]] = item[1:]\n",
    "#for x in co2datadict:\n",
    "#    print(x, \" - \", co2datadict[x])\n"
   ]
  },
  {
   "cell_type": "code",
   "execution_count": 2,
   "metadata": {},
   "outputs": [
    {
     "name": "stdout",
     "output_type": "stream",
     "text": [
      "All the data from dictionary has been read into a dictionary\n"
     ]
    }
   ],
   "source": [
    "#Day 2\n",
    "print (\"All the data from dictionary has been read into a dictionary\")"
   ]
  },
  {
   "cell_type": "code",
   "execution_count": 3,
   "metadata": {},
   "outputs": [
    {
     "name": "stdout",
     "output_type": "stream",
     "text": [
      "Select an year to find the statistics (1997 - 2010): 1997\n"
     ]
    }
   ],
   "source": [
    "while True:\n",
    "    try:\n",
    "        yr = int(input(\"Select an year to find the statistics (1997 - 2010): \"))\n",
    "        assert yr in range(1997,2011)\n",
    "    except ValueError:\n",
    "        print (\"Not a number. Try again\")\n",
    "        continue\n",
    "    except:\n",
    "        print (\"Year value has to be from 1997 - 2010\")\n",
    "        continue\n",
    "    else:\n",
    "        break\n",
    "        \n",
    "    "
   ]
  },
  {
   "cell_type": "code",
   "execution_count": 4,
   "metadata": {},
   "outputs": [],
   "source": [
    "yr_idx = co2datadict[\"CO2 per capita\"].index(str(yr))"
   ]
  },
  {
   "cell_type": "code",
   "execution_count": 5,
   "metadata": {},
   "outputs": [
    {
     "name": "stdout",
     "output_type": "stream",
     "text": [
      "68.61994212  ,  0.015260169\n",
      "In 1997, countries with minimum and maximum CO2 emission levels were: Qatar and Chad respectively.\n",
      "Average co2 emissions in 1997 were 4.958985\n"
     ]
    }
   ],
   "source": [
    "yr_co2_val = []\n",
    "#yr_co2_max = 0.0\n",
    "#yr_co2_min = 0.0\n",
    "for item in co2datadict:\n",
    "    if item != \"CO2 per capita\":\n",
    "       # print (item)\n",
    "        yr_co2_val.append(float(co2datadict[item][yr_idx]))\n",
    "        max_co2 = max(yr_co2_val)\n",
    "        min_co2 = min(yr_co2_val) \n",
    "        if float(co2datadict[item][yr_idx]) >= max_co2:\n",
    "            yr_co2_max = item\n",
    "        elif float(co2datadict[item][yr_idx]) <= min_co2:\n",
    "            yr_co2_min = item\n",
    "max_co2 = max(yr_co2_val)\n",
    "min_co2 = min(yr_co2_val)\n",
    "mean_co2 = round(sum(yr_co2_val)/len(yr_co2_val),6)\n",
    "print (max_co2,\" , \", min_co2)\n",
    "print (f\"In {yr}, countries with minimum and maximum CO2 emission levels were: {yr_co2_max} and {yr_co2_min} respectively.\")\n",
    "print (f\"Average co2 emissions in 1997 were {mean_co2}\")"
   ]
  },
  {
   "cell_type": "code",
   "execution_count": 6,
   "metadata": {},
   "outputs": [],
   "source": [
    "#Day 3: Plot the emissions data from a user-selected country. Use Python plotting library matplotlib for drawing the plots\n",
    "import matplotlib.pyplot as plt\n",
    "import matplotlib.ticker as ticker\n",
    "import pandas as pd\n",
    "import numpy as np"
   ]
  },
  {
   "cell_type": "code",
   "execution_count": 7,
   "metadata": {},
   "outputs": [],
   "source": [
    "co2df = pd.DataFrame(co2datadict)"
   ]
  },
  {
   "cell_type": "code",
   "execution_count": null,
   "metadata": {},
   "outputs": [],
   "source": [
    "co2df"
   ]
  },
  {
   "cell_type": "code",
   "execution_count": 8,
   "metadata": {},
   "outputs": [
    {
     "data": {
      "text/html": [
       "<div>\n",
       "<style scoped>\n",
       "    .dataframe tbody tr th:only-of-type {\n",
       "        vertical-align: middle;\n",
       "    }\n",
       "\n",
       "    .dataframe tbody tr th {\n",
       "        vertical-align: top;\n",
       "    }\n",
       "\n",
       "    .dataframe thead th {\n",
       "        text-align: right;\n",
       "    }\n",
       "</style>\n",
       "<table border=\"1\" class=\"dataframe\">\n",
       "  <thead>\n",
       "    <tr style=\"text-align: right;\">\n",
       "      <th></th>\n",
       "      <th>Afghanistan</th>\n",
       "      <th>Albania</th>\n",
       "      <th>Algeria</th>\n",
       "      <th>Andorra</th>\n",
       "      <th>Angola</th>\n",
       "      <th>Antigua and Barbuda</th>\n",
       "      <th>Argentina</th>\n",
       "      <th>Armenia</th>\n",
       "      <th>Aruba</th>\n",
       "      <th>Australia</th>\n",
       "      <th>...</th>\n",
       "      <th>United States</th>\n",
       "      <th>Uruguay</th>\n",
       "      <th>Uzbekistan</th>\n",
       "      <th>Vanuatu</th>\n",
       "      <th>Venezuela</th>\n",
       "      <th>West Bank and Gaza</th>\n",
       "      <th>Western Sahara</th>\n",
       "      <th>Vietnam</th>\n",
       "      <th>Zambia</th>\n",
       "      <th>Zimbabwe</th>\n",
       "    </tr>\n",
       "    <tr>\n",
       "      <th>CO2 per capita</th>\n",
       "      <th></th>\n",
       "      <th></th>\n",
       "      <th></th>\n",
       "      <th></th>\n",
       "      <th></th>\n",
       "      <th></th>\n",
       "      <th></th>\n",
       "      <th></th>\n",
       "      <th></th>\n",
       "      <th></th>\n",
       "      <th></th>\n",
       "      <th></th>\n",
       "      <th></th>\n",
       "      <th></th>\n",
       "      <th></th>\n",
       "      <th></th>\n",
       "      <th></th>\n",
       "      <th></th>\n",
       "      <th></th>\n",
       "      <th></th>\n",
       "      <th></th>\n",
       "    </tr>\n",
       "  </thead>\n",
       "  <tbody>\n",
       "    <tr>\n",
       "      <th>1997</th>\n",
       "      <td>0.052333365</td>\n",
       "      <td>0.499261188</td>\n",
       "      <td>3.015670427</td>\n",
       "      <td>7.061602855</td>\n",
       "      <td>0.576990561</td>\n",
       "      <td>4.664325286</td>\n",
       "      <td>3.770570751</td>\n",
       "      <td>1.045668737</td>\n",
       "      <td>21.74312968</td>\n",
       "      <td>18.00758857</td>\n",
       "      <td>...</td>\n",
       "      <td>19.87559408</td>\n",
       "      <td>1.699139969</td>\n",
       "      <td>4.28482617</td>\n",
       "      <td>0.503084249</td>\n",
       "      <td>5.833523973</td>\n",
       "      <td>0.139027419</td>\n",
       "      <td>0.798044067</td>\n",
       "      <td>0.592506586</td>\n",
       "      <td>0.25383693</td>\n",
       "      <td>1.191934033</td>\n",
       "    </tr>\n",
       "    <tr>\n",
       "      <th>1998</th>\n",
       "      <td>0.048546686</td>\n",
       "      <td>0.569225594</td>\n",
       "      <td>3.608257648</td>\n",
       "      <td>7.533542944</td>\n",
       "      <td>0.556212458</td>\n",
       "      <td>4.497461473</td>\n",
       "      <td>3.80967752</td>\n",
       "      <td>1.095600733</td>\n",
       "      <td>19.21445326</td>\n",
       "      <td>18.51527047</td>\n",
       "      <td>...</td>\n",
       "      <td>19.76765214</td>\n",
       "      <td>1.72843431</td>\n",
       "      <td>4.872490824</td>\n",
       "      <td>0.473926547</td>\n",
       "      <td>7.142414583</td>\n",
       "      <td>0.202052038</td>\n",
       "      <td>0.783195953</td>\n",
       "      <td>0.616837131</td>\n",
       "      <td>0.238964347</td>\n",
       "      <td>1.162341642</td>\n",
       "    </tr>\n",
       "    <tr>\n",
       "      <th>1999</th>\n",
       "      <td>0.037446034</td>\n",
       "      <td>0.971341941</td>\n",
       "      <td>3.060244617</td>\n",
       "      <td>8.022713657</td>\n",
       "      <td>0.677616537</td>\n",
       "      <td>4.584238117</td>\n",
       "      <td>3.981141308</td>\n",
       "      <td>0.989444203</td>\n",
       "      <td>19.02942041</td>\n",
       "      <td>17.1783559</td>\n",
       "      <td>...</td>\n",
       "      <td>19.8037525</td>\n",
       "      <td>2.033286064</td>\n",
       "      <td>4.798243774</td>\n",
       "      <td>0.465315596</td>\n",
       "      <td>7.225967549</td>\n",
       "      <td>0.209712636</td>\n",
       "      <td>0.786200396</td>\n",
       "      <td>0.612249535</td>\n",
       "      <td>0.18176428</td>\n",
       "      <td>1.276289034</td>\n",
       "    </tr>\n",
       "    <tr>\n",
       "      <th>2000</th>\n",
       "      <td>0.034170007</td>\n",
       "      <td>0.983553048</td>\n",
       "      <td>2.879527679</td>\n",
       "      <td>8.112345412</td>\n",
       "      <td>0.68507907</td>\n",
       "      <td>4.438377803</td>\n",
       "      <td>3.819693795</td>\n",
       "      <td>1.126427051</td>\n",
       "      <td>24.73662638</td>\n",
       "      <td>17.19727773</td>\n",
       "      <td>...</td>\n",
       "      <td>20.22341689</td>\n",
       "      <td>1.59854208</td>\n",
       "      <td>4.841064795</td>\n",
       "      <td>0.435861691</td>\n",
       "      <td>6.259217617</td>\n",
       "      <td>0.247611425</td>\n",
       "      <td>0.755797975</td>\n",
       "      <td>0.68106935</td>\n",
       "      <td>0.178273353</td>\n",
       "      <td>1.110011767</td>\n",
       "    </tr>\n",
       "    <tr>\n",
       "      <th>2001</th>\n",
       "      <td>0.027255262</td>\n",
       "      <td>1.047320154</td>\n",
       "      <td>2.720453311</td>\n",
       "      <td>7.897775769</td>\n",
       "      <td>0.676339193</td>\n",
       "      <td>4.353775869</td>\n",
       "      <td>3.555285353</td>\n",
       "      <td>1.155322737</td>\n",
       "      <td>24.21604611</td>\n",
       "      <td>16.7592018</td>\n",
       "      <td>...</td>\n",
       "      <td>19.61477176</td>\n",
       "      <td>1.530714036</td>\n",
       "      <td>4.872775736</td>\n",
       "      <td>0.464272148</td>\n",
       "      <td>6.953024135</td>\n",
       "      <td>0.410765965</td>\n",
       "      <td>0.707728794</td>\n",
       "      <td>0.767733041</td>\n",
       "      <td>0.182459196</td>\n",
       "      <td>0.998965011</td>\n",
       "    </tr>\n",
       "  </tbody>\n",
       "</table>\n",
       "<p>5 rows × 195 columns</p>\n",
       "</div>"
      ],
      "text/plain": [
       "                Afghanistan      Albania      Algeria      Andorra  \\\n",
       "CO2 per capita                                                       \n",
       "1997            0.052333365  0.499261188  3.015670427  7.061602855   \n",
       "1998            0.048546686  0.569225594  3.608257648  7.533542944   \n",
       "1999            0.037446034  0.971341941  3.060244617  8.022713657   \n",
       "2000            0.034170007  0.983553048  2.879527679  8.112345412   \n",
       "2001            0.027255262  1.047320154  2.720453311  7.897775769   \n",
       "\n",
       "                     Angola Antigua and Barbuda    Argentina      Armenia  \\\n",
       "CO2 per capita                                                              \n",
       "1997            0.576990561         4.664325286  3.770570751  1.045668737   \n",
       "1998            0.556212458         4.497461473   3.80967752  1.095600733   \n",
       "1999            0.677616537         4.584238117  3.981141308  0.989444203   \n",
       "2000             0.68507907         4.438377803  3.819693795  1.126427051   \n",
       "2001            0.676339193         4.353775869  3.555285353  1.155322737   \n",
       "\n",
       "                      Aruba    Australia  ... United States      Uruguay  \\\n",
       "CO2 per capita                            ...                              \n",
       "1997            21.74312968  18.00758857  ...   19.87559408  1.699139969   \n",
       "1998            19.21445326  18.51527047  ...   19.76765214   1.72843431   \n",
       "1999            19.02942041   17.1783559  ...    19.8037525  2.033286064   \n",
       "2000            24.73662638  17.19727773  ...   20.22341689   1.59854208   \n",
       "2001            24.21604611   16.7592018  ...   19.61477176  1.530714036   \n",
       "\n",
       "                 Uzbekistan      Vanuatu    Venezuela West Bank and Gaza  \\\n",
       "CO2 per capita                                                             \n",
       "1997             4.28482617  0.503084249  5.833523973        0.139027419   \n",
       "1998            4.872490824  0.473926547  7.142414583        0.202052038   \n",
       "1999            4.798243774  0.465315596  7.225967549        0.209712636   \n",
       "2000            4.841064795  0.435861691  6.259217617        0.247611425   \n",
       "2001            4.872775736  0.464272148  6.953024135        0.410765965   \n",
       "\n",
       "               Western Sahara      Vietnam       Zambia     Zimbabwe  \n",
       "CO2 per capita                                                        \n",
       "1997              0.798044067  0.592506586   0.25383693  1.191934033  \n",
       "1998              0.783195953  0.616837131  0.238964347  1.162341642  \n",
       "1999              0.786200396  0.612249535   0.18176428  1.276289034  \n",
       "2000              0.755797975   0.68106935  0.178273353  1.110011767  \n",
       "2001              0.707728794  0.767733041  0.182459196  0.998965011  \n",
       "\n",
       "[5 rows x 195 columns]"
      ]
     },
     "execution_count": 8,
     "metadata": {},
     "output_type": "execute_result"
    }
   ],
   "source": [
    "co2df.set_index(\"CO2 per capita\").head()"
   ]
  },
  {
   "cell_type": "code",
   "execution_count": null,
   "metadata": {},
   "outputs": [],
   "source": [
    "co2df.columns"
   ]
  },
  {
   "cell_type": "code",
   "execution_count": 9,
   "metadata": {},
   "outputs": [
    {
     "name": "stdout",
     "output_type": "stream",
     "text": [
      "Select the country to visualize: India\n"
     ]
    },
    {
     "data": {
      "image/png": "[encoded data removed]",
      "text/plain": [
       "<Figure size 432x288 with 1 Axes>"
      ]
     },
     "metadata": {
      "needs_background": "light"
     },
     "output_type": "display_data"
    }
   ],
   "source": [
    "#method 1: with pandas\n",
    "while True:\n",
    "    try:\n",
    "        cntry = input(\"Select the country to visualize: \")\n",
    "        #check if country exists in the data\n",
    "        assert cntry.title() in co2df.columns\n",
    "    except:\n",
    "        print (f\"Country {cntry} does not exist in the data. Please check spelling\")\n",
    "        continue\n",
    "    else:\n",
    "        break\n",
    "x = list(int(item) for item in co2df[\"CO2 per capita\"])\n",
    "y = list(float(item) for item in co2df[cntry.title()])\n",
    "fig = plt.figure()\n",
    "ax = fig.add_subplot(1,1,1)\n",
    "ax.plot(x,y)\n",
    "ax.xaxis.set_major_locator(ticker.MultipleLocator(2))\n",
    "ax.yaxis.set_major_locator(ticker.MultipleLocator(0.1))\n",
    "ax.set_xlabel(\"Year\")\n",
    "ax.set_ylabel(f\"Emissions in {cntry.title()}\")\n",
    "ax.set_title(\"Year vs Emissions in Capita\")\n",
    "plt.show()"
   ]
  },
  {
   "cell_type": "code",
   "execution_count": 10,
   "metadata": {},
   "outputs": [
    {
     "name": "stdout",
     "output_type": "stream",
     "text": [
      "Select the country to visualize: India\n"
     ]
    },
    {
     "data": {
      "image/png": "[encoded data removed]",
      "text/plain": [
       "<Figure size 432x288 with 1 Axes>"
      ]
     },
     "metadata": {
      "needs_background": "light"
     },
     "output_type": "display_data"
    }
   ],
   "source": [
    "#method 2: without pandas\n",
    "while True:\n",
    "    try:\n",
    "        cntry = input(\"Select the country to visualize: \")\n",
    "        #check if country exists in the data\n",
    "        assert cntry.title() in co2datadict.keys()\n",
    "    except:\n",
    "        print (f\"Country {cntry} does not exist in the data. Please check spelling\")\n",
    "        continue\n",
    "    else:\n",
    "        break\n",
    "x = list(int(item) for item in co2datadict[\"CO2 per capita\"])\n",
    "y = list(float(item) for item in co2datadict[cntry.title()])\n",
    "fig = plt.figure()\n",
    "ax = fig.add_subplot(1,1,1)\n",
    "ax.plot(x,y)\n",
    "ax.xaxis.set_major_locator(ticker.MultipleLocator(2))\n",
    "ax.yaxis.set_major_locator(ticker.MultipleLocator(1.0))\n",
    "ax.set_xlabel(\"Year\")\n",
    "ax.set_ylabel(f\"Emissions in {cntry.title()}\")\n",
    "ax.set_title(\"Year vs Emissions in Capita\")\n",
    "plt.show()"
   ]
  },
  {
   "cell_type": "code",
   "execution_count": 11,
   "metadata": {},
   "outputs": [
    {
     "name": "stdout",
     "output_type": "stream",
     "text": [
      "Select the first country to visualize: Mongolia\n",
      "Select the second country to visualize: MOntenegro\n",
      "0\n",
      "[3.28740656, 3.256305554, 3.161896055, 3.112616388, 3.238153527, 3.370135045, 3.232633598, 3.400594905, 3.39413011, 3.674977223, 3.84478265, 3.759486815, 4.075487859, 4.176220062]\n",
      "1\n",
      "[3.371343904, 3.565346706, 2.473520616, 2.760902833, 2.977457077, 3.191799135, 3.418872403, 3.739135948, 3.539748704, 3.800721021, 3.585142625, 4.370733568, 2.890596704, 4.087686794]\n"
     ]
    }
   ],
   "source": [
    "#Day 4 - plot a comparison graph based on user input\n",
    "ctry = []\n",
    "while True:\n",
    "    try:\n",
    "        temp = input(\"Select the first country to visualize: \")\n",
    "        #check if country exists in the data\n",
    "        assert temp.title() in co2datadict.keys()\n",
    "    except:\n",
    "        print (f\"Country {temp} does not exist in the data. Please check spelling\")\n",
    "        continue\n",
    "    else:\n",
    "        ctry.append(temp)\n",
    "        break\n",
    "while True:\n",
    "    try:\n",
    "        temp = input(\"Select the second country to visualize: \")\n",
    "        #check if country exists in the data\n",
    "        assert temp.title() in co2datadict.keys()\n",
    "    except:\n",
    "        print (f\"Country {temp} does not exist in the data. Please check spelling\")\n",
    "        continue\n",
    "    else:\n",
    "        ctry.append(temp)\n",
    "        break\n",
    "x = list(int(item) for item in co2datadict[\"CO2 per capita\"])\n",
    "y = []\n",
    "\n",
    "for c in range(len(ctry)):\n",
    "    print (c)\n",
    "    temp = list(float(item) for item in co2datadict[ctry[c].title()])\n",
    "    y.append(temp)\n",
    "    print (y[c])\n",
    "    \n"
   ]
  },
  {
   "cell_type": "code",
   "execution_count": 12,
   "metadata": {},
   "outputs": [
    {
     "data": {
      "image/png": "[encoded data removed]",
      "text/plain": [
       "<Figure size 432x288 with 1 Axes>"
      ]
     },
     "metadata": {
      "needs_background": "light"
     },
     "output_type": "display_data"
    }
   ],
   "source": [
    "fig = plt.figure()\n",
    "ax = fig.add_axes([0,0,1,1])\n",
    "\n",
    "#ax.plot(x,y[0])\n",
    "for c in range(len(y)):\n",
    "    ax.plot(x,y[c],label = ctry[c].title())\n",
    "    \n",
    "#ax.set_xlim(left = 0)\n",
    "ax.set_ylim(bottom = 2.4)\n",
    "ax.set_xlabel(\"Year\")\n",
    "ax.set_ylabel(\"Emissions\")\n",
    "ax.set_title(\"Year vs Emissions in Capita\")\n",
    "ax.legend(loc =0)\n",
    "plt.show()"
   ]
  },
  {
   "cell_type": "code",
   "execution_count": 14,
   "metadata": {},
   "outputs": [
    {
     "name": "stdout",
     "output_type": "stream",
     "text": [
      "Write upto three comma separated countries for which you want to extract data: Australia, Austria, Ch\n",
      "Country Ch does not exist in the data. Please check spelling\n",
      "Write upto three comma separated countries for which you want to extract data: Australia, Austria, Azerbaijan\n"
     ]
    }
   ],
   "source": [
    "#Day 5 - \n",
    "#1. extract data for up to three user-selected countries and save it to a new file Emissions_subset.csv\n",
    "#2. The new file should have the exact same format as the source file, i.e. first line of headers and...\n",
    "#...then up to 3 lines for selected countries\n",
    "\n",
    "#method 1: without pandas    \n",
    "ctry_list = []\n",
    "while True:\n",
    "    try:\n",
    "        e_flag = False\n",
    "        e_msg = []\n",
    "        temp = input(\"Write upto three comma separated countries for which you want to extract data: \").split(\",\")\n",
    "        ctry_list = list(map(str.strip, temp))\n",
    "        #check if country exists in the data\n",
    "        e_msg, e_flag = check_country(ctry_list, co2datadict.keys(), 3)\n",
    "        if e_flag:\n",
    "            raise Error_incorrectinput #userdefined error\n",
    "\n",
    "        \n",
    "    except Error_incorrectinput:\n",
    "        for item in e_msg:\n",
    "            print (item)\n",
    "        continue\n",
    "    else:\n",
    "        break\n"
   ]
  },
  {
   "cell_type": "code",
   "execution_count": 17,
   "metadata": {},
   "outputs": [],
   "source": [
    "with open(\"Emissions_subset.csv\",\"w\", newline = \"\") as file:\n",
    "    writer = csv.writer(file)\n",
    "    rw=[]\n",
    "    rw.append(\"CO2 per capita\")\n",
    "    for item in co2datadict[\"CO2 per capita\"]:\n",
    "        rw.append(item)\n",
    "    writer.writerow(rw)\n",
    "    rw=[]\n",
    "    for item in ctry_list:\n",
    "        rw=[]\n",
    "        rw.append(item)\n",
    "        for val in co2datadict[item]:\n",
    "            rw.append(val)\n",
    "        writer.writerow(rw)"
   ]
  },
  {
   "cell_type": "code",
   "execution_count": 22,
   "metadata": {},
   "outputs": [
    {
     "name": "stdout",
     "output_type": "stream",
     "text": [
      "['CO2 per capita', '1997', '1998', '1999', '2000', '2001', '2002', '2003', '2004', '2005', '2006', '2007', '2008', '2009', '2010']\n",
      "['Australia', '18.00758857', '18.51527047', '17.1783559', '17.19727773', '16.7592018', '17.39286776', '17.46183995', '17.34623728', '17.7739756', '17.89312837', '17.85990598', '18.01631327', '18.03726854', '16.75230078']\n",
      "['Austria', '8.015418493', '8.219538404', '7.989368994', '7.956563584', '8.174472454', '8.310385132', '8.889629244', '8.77880008', '9.017237523', '8.6494461', '8.319711838', '8.183160018', '7.438353474', '7.969244347']\n",
      "['Azerbaijan', '3.766425751', '3.97117158', '3.55432571', '3.637859001', '3.512029921', '3.576219661', '3.654527368', '3.783992486', '3.998027302', '4.500681609', '4.695870874', '5.109538292', '4.701319259', '4.976935132']\n"
     ]
    }
   ],
   "source": [
    "with open(\"Emissions_subset.csv\") as csvfile:\n",
    "    co2data = csv.reader(csvfile)\n",
    "    for item in co2data:\n",
    "        print (item)"
   ]
  },
  {
   "cell_type": "code",
   "execution_count": 26,
   "metadata": {},
   "outputs": [
    {
     "data": {
      "text/html": [
       "<div>\n",
       "<style scoped>\n",
       "    .dataframe tbody tr th:only-of-type {\n",
       "        vertical-align: middle;\n",
       "    }\n",
       "\n",
       "    .dataframe tbody tr th {\n",
       "        vertical-align: top;\n",
       "    }\n",
       "\n",
       "    .dataframe thead th {\n",
       "        text-align: right;\n",
       "    }\n",
       "</style>\n",
       "<table border=\"1\" class=\"dataframe\">\n",
       "  <thead>\n",
       "    <tr style=\"text-align: right;\">\n",
       "      <th>CO2 per capita</th>\n",
       "      <th>1997</th>\n",
       "      <th>1998</th>\n",
       "      <th>1999</th>\n",
       "      <th>2000</th>\n",
       "      <th>2001</th>\n",
       "      <th>2002</th>\n",
       "      <th>2003</th>\n",
       "      <th>2004</th>\n",
       "      <th>2005</th>\n",
       "      <th>2006</th>\n",
       "      <th>2007</th>\n",
       "      <th>2008</th>\n",
       "      <th>2009</th>\n",
       "      <th>2010</th>\n",
       "    </tr>\n",
       "  </thead>\n",
       "  <tbody>\n",
       "    <tr>\n",
       "      <th>Afghanistan</th>\n",
       "      <td>0.052333365</td>\n",
       "      <td>0.048546686</td>\n",
       "      <td>0.037446034</td>\n",
       "      <td>0.034170007</td>\n",
       "      <td>0.027255262</td>\n",
       "      <td>0.014583427</td>\n",
       "      <td>0.022703695</td>\n",
       "      <td>0.02747237</td>\n",
       "      <td>0.036779904</td>\n",
       "      <td>0.047089636</td>\n",
       "      <td>0.068311633</td>\n",
       "      <td>0.131601903</td>\n",
       "      <td>0.213325007</td>\n",
       "      <td>0.262173714</td>\n",
       "    </tr>\n",
       "    <tr>\n",
       "      <th>Albania</th>\n",
       "      <td>0.499261188</td>\n",
       "      <td>0.569225594</td>\n",
       "      <td>0.971341941</td>\n",
       "      <td>0.983553048</td>\n",
       "      <td>1.047320154</td>\n",
       "      <td>1.214003077</td>\n",
       "      <td>1.382066271</td>\n",
       "      <td>1.332965957</td>\n",
       "      <td>1.353788699</td>\n",
       "      <td>1.224310364</td>\n",
       "      <td>1.27942017</td>\n",
       "      <td>1.297752738</td>\n",
       "      <td>1.215054777</td>\n",
       "      <td>1.336544035</td>\n",
       "    </tr>\n",
       "    <tr>\n",
       "      <th>Algeria</th>\n",
       "      <td>3.015670427</td>\n",
       "      <td>3.608257648</td>\n",
       "      <td>3.060244617</td>\n",
       "      <td>2.879527679</td>\n",
       "      <td>2.720453311</td>\n",
       "      <td>2.889312783</td>\n",
       "      <td>2.899236274</td>\n",
       "      <td>2.762219639</td>\n",
       "      <td>3.257009779</td>\n",
       "      <td>3.113135178</td>\n",
       "      <td>3.312874684</td>\n",
       "      <td>3.328944661</td>\n",
       "      <td>3.564360549</td>\n",
       "      <td>3.480976541</td>\n",
       "    </tr>\n",
       "    <tr>\n",
       "      <th>Andorra</th>\n",
       "      <td>7.061602855</td>\n",
       "      <td>7.533542944</td>\n",
       "      <td>8.022713657</td>\n",
       "      <td>8.112345412</td>\n",
       "      <td>7.897775769</td>\n",
       "      <td>7.700515138</td>\n",
       "      <td>7.414281032</td>\n",
       "      <td>7.499690095</td>\n",
       "      <td>7.390954533</td>\n",
       "      <td>6.839939571</td>\n",
       "      <td>6.622435189</td>\n",
       "      <td>6.527241242</td>\n",
       "      <td>6.178519784</td>\n",
       "      <td>6.092100302</td>\n",
       "    </tr>\n",
       "    <tr>\n",
       "      <th>Angola</th>\n",
       "      <td>0.576990561</td>\n",
       "      <td>0.556212458</td>\n",
       "      <td>0.677616537</td>\n",
       "      <td>0.68507907</td>\n",
       "      <td>0.676339193</td>\n",
       "      <td>0.850521392</td>\n",
       "      <td>0.587810214</td>\n",
       "      <td>1.177610138</td>\n",
       "      <td>1.161661852</td>\n",
       "      <td>1.308848969</td>\n",
       "      <td>1.435043652</td>\n",
       "      <td>1.474353388</td>\n",
       "      <td>1.500053579</td>\n",
       "      <td>1.593917842</td>\n",
       "    </tr>\n",
       "  </tbody>\n",
       "</table>\n",
       "</div>"
      ],
      "text/plain": [
       "CO2 per capita         1997         1998         1999         2000  \\\n",
       "Afghanistan     0.052333365  0.048546686  0.037446034  0.034170007   \n",
       "Albania         0.499261188  0.569225594  0.971341941  0.983553048   \n",
       "Algeria         3.015670427  3.608257648  3.060244617  2.879527679   \n",
       "Andorra         7.061602855  7.533542944  8.022713657  8.112345412   \n",
       "Angola          0.576990561  0.556212458  0.677616537   0.68507907   \n",
       "\n",
       "CO2 per capita         2001         2002         2003         2004  \\\n",
       "Afghanistan     0.027255262  0.014583427  0.022703695   0.02747237   \n",
       "Albania         1.047320154  1.214003077  1.382066271  1.332965957   \n",
       "Algeria         2.720453311  2.889312783  2.899236274  2.762219639   \n",
       "Andorra         7.897775769  7.700515138  7.414281032  7.499690095   \n",
       "Angola          0.676339193  0.850521392  0.587810214  1.177610138   \n",
       "\n",
       "CO2 per capita         2005         2006         2007         2008  \\\n",
       "Afghanistan     0.036779904  0.047089636  0.068311633  0.131601903   \n",
       "Albania         1.353788699  1.224310364   1.27942017  1.297752738   \n",
       "Algeria         3.257009779  3.113135178  3.312874684  3.328944661   \n",
       "Andorra         7.390954533  6.839939571  6.622435189  6.527241242   \n",
       "Angola          1.161661852  1.308848969  1.435043652  1.474353388   \n",
       "\n",
       "CO2 per capita         2009         2010  \n",
       "Afghanistan     0.213325007  0.262173714  \n",
       "Albania         1.215054777  1.336544035  \n",
       "Algeria         3.564360549  3.480976541  \n",
       "Andorra         6.178519784  6.092100302  \n",
       "Angola          1.500053579  1.593917842  "
      ]
     },
     "execution_count": 26,
     "metadata": {},
     "output_type": "execute_result"
    }
   ],
   "source": [
    "#method 2: with pandas- 23/06 hasn't worked\n",
    "\n",
    "co2df_t = co2df.set_index(\"CO2 per capita\").transpose()\n",
    "co2df_t.head()"
   ]
  },
  {
   "cell_type": "code",
   "execution_count": 28,
   "metadata": {},
   "outputs": [],
   "source": [
    "for item in ctry_list:\n",
    "    co2df_t.loc[item].to_csv(\"Emissions_subset2.csv\")"
   ]
  },
  {
   "cell_type": "code",
   "execution_count": 29,
   "metadata": {},
   "outputs": [
    {
     "name": "stdout",
     "output_type": "stream",
     "text": [
      "['CO2 per capita', 'Azerbaijan']\n",
      "['1997', '3.766425751']\n",
      "['1998', '3.97117158']\n",
      "['1999', '3.55432571']\n",
      "['2000', '3.637859001']\n",
      "['2001', '3.512029921']\n",
      "['2002', '3.576219661']\n",
      "['2003', '3.654527368']\n",
      "['2004', '3.783992486']\n",
      "['2005', '3.998027302']\n",
      "['2006', '4.500681609']\n",
      "['2007', '4.695870874']\n",
      "['2008', '5.109538292']\n",
      "['2009', '4.701319259']\n",
      "['2010', '4.976935132']\n"
     ]
    }
   ],
   "source": [
    "with open(\"Emissions_subset2.csv\") as csvfile:\n",
    "    co2data = csv.reader(csvfile)\n",
    "    for item in co2data:\n",
    "        print (item)"
   ]
  },
  {
   "cell_type": "code",
   "execution_count": null,
   "metadata": {},
   "outputs": [],
   "source": [
    "#Day 6: Error handling - already implemented in day 4 and 5"
   ]
  }
 ],
 "metadata": {
  "kernelspec": {
   "display_name": "Python 3",
   "language": "python",
   "name": "python3"
  },
  "language_info": {
   "codemirror_mode": {
    "name": "ipython",
    "version": 3
   },
   "file_extension": ".py",
   "mimetype": "text/x-python",
   "name": "python",
   "nbconvert_exporter": "python",
   "pygments_lexer": "ipython3",
   "version": "3.7.6"
  }
 },
 "nbformat": 4,
 "nbformat_minor": 4
}
